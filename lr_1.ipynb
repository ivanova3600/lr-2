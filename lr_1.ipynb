{
 "cells": [
  {
   "cell_type": "code",
   "execution_count": 1,
   "id": "758156b5",
   "metadata": {},
   "outputs": [],
   "source": [
    "import numpy as np\n",
    "from sklearn.base import BaseEstimator, ClassifierMixin\n",
    "from sklearn.utils.validation import check_X_y, check_array, check_is_fitted\n",
    "from sklearn.utils.multiclass import unique_labels\n",
    "from sklearn.metrics import euclidean_distances\n",
    "from sklearn.pipeline import Pipeline\n",
    "from sklearn.model_selection import train_test_split\n",
    "import matplotlib.pyplot as plt\n",
    "from sklearn.model_selection import GridSearchCV\n",
    "\n",
    "import matplotlib.pyplot as plt\n",
    "from sklearn.metrics import accuracy_score"
   ]
  },
  {
   "cell_type": "code",
   "execution_count": 9,
   "id": "6c75bc95",
   "metadata": {},
   "outputs": [],
   "source": [
    "import pandas as pd\n",
    "\n",
    "df = pd.read_csv('healthcare-dataset-stroke-data.csv')"
   ]
  },
  {
   "cell_type": "code",
   "execution_count": 10,
   "id": "3e727ab3",
   "metadata": {},
   "outputs": [
    {
     "name": "stdout",
     "output_type": "stream",
     "text": [
      "<class 'pandas.core.frame.DataFrame'>\n",
      "RangeIndex: 5110 entries, 0 to 5109\n",
      "Data columns (total 12 columns):\n",
      " #   Column             Non-Null Count  Dtype  \n",
      "---  ------             --------------  -----  \n",
      " 0   id                 5110 non-null   int64  \n",
      " 1   gender             5110 non-null   object \n",
      " 2   age                5110 non-null   float64\n",
      " 3   hypertension       5110 non-null   int64  \n",
      " 4   heart_disease      5110 non-null   int64  \n",
      " 5   ever_married       5110 non-null   object \n",
      " 6   work_type          5110 non-null   object \n",
      " 7   Residence_type     5110 non-null   object \n",
      " 8   avg_glucose_level  5110 non-null   float64\n",
      " 9   bmi                4909 non-null   float64\n",
      " 10  smoking_status     5110 non-null   object \n",
      " 11  stroke             5110 non-null   int64  \n",
      "dtypes: float64(3), int64(4), object(5)\n",
      "memory usage: 479.2+ KB\n"
     ]
    }
   ],
   "source": [
    "df.info()"
   ]
  },
  {
   "cell_type": "code",
   "execution_count": 11,
   "id": "93ea8c81",
   "metadata": {},
   "outputs": [],
   "source": [
    "df['bmi'] = df['bmi'].fillna((df['bmi'].median()))\n",
    "df['smoking_status'] = df['smoking_status'].astype('category')\n",
    "df['gender'] = df['gender'].astype('category')\n",
    "df['Residence_type'] = df['Residence_type'].astype('category')\n",
    "df['work_type'] = df['work_type'].astype('category')\n",
    "df['ever_married'] = df['ever_married'].astype('category')"
   ]
  },
  {
   "cell_type": "code",
   "execution_count": 12,
   "id": "c9efcf50",
   "metadata": {},
   "outputs": [],
   "source": [
    "df['smoking_status'] = df['smoking_status'].cat.codes\n",
    "df['gender'] = df['gender'].cat.codes\n",
    "df['Residence_type'] = df['Residence_type'].cat.codes\n",
    "df['work_type'] = df['work_type'].cat.codes\n",
    "df['ever_married'] = df['ever_married'].cat.codes"
   ]
  },
  {
   "cell_type": "code",
   "execution_count": 13,
   "id": "597afd2b",
   "metadata": {},
   "outputs": [
    {
     "name": "stdout",
     "output_type": "stream",
     "text": [
      "<class 'pandas.core.frame.DataFrame'>\n",
      "RangeIndex: 5110 entries, 0 to 5109\n",
      "Data columns (total 12 columns):\n",
      " #   Column             Non-Null Count  Dtype  \n",
      "---  ------             --------------  -----  \n",
      " 0   id                 5110 non-null   int64  \n",
      " 1   gender             5110 non-null   int8   \n",
      " 2   age                5110 non-null   float64\n",
      " 3   hypertension       5110 non-null   int64  \n",
      " 4   heart_disease      5110 non-null   int64  \n",
      " 5   ever_married       5110 non-null   int8   \n",
      " 6   work_type          5110 non-null   int8   \n",
      " 7   Residence_type     5110 non-null   int8   \n",
      " 8   avg_glucose_level  5110 non-null   float64\n",
      " 9   bmi                5110 non-null   float64\n",
      " 10  smoking_status     5110 non-null   int8   \n",
      " 11  stroke             5110 non-null   int64  \n",
      "dtypes: float64(3), int64(4), int8(5)\n",
      "memory usage: 304.5 KB\n"
     ]
    }
   ],
   "source": [
    "df.info()"
   ]
  },
  {
   "cell_type": "code",
   "execution_count": 14,
   "id": "6b5211f3",
   "metadata": {},
   "outputs": [],
   "source": [
    "df = df.drop(columns = ['Residence_type'], axis = 1)\n",
    "df = df.drop(columns = ['ever_married'], axis = 1)\n",
    "df = df.drop(columns = ['id'], axis = 1)"
   ]
  },
  {
   "cell_type": "code",
   "execution_count": 15,
   "id": "4a1d272f",
   "metadata": {},
   "outputs": [
    {
     "data": {
      "text/html": [
       "<div>\n",
       "<style scoped>\n",
       "    .dataframe tbody tr th:only-of-type {\n",
       "        vertical-align: middle;\n",
       "    }\n",
       "\n",
       "    .dataframe tbody tr th {\n",
       "        vertical-align: top;\n",
       "    }\n",
       "\n",
       "    .dataframe thead th {\n",
       "        text-align: right;\n",
       "    }\n",
       "</style>\n",
       "<table border=\"1\" class=\"dataframe\">\n",
       "  <thead>\n",
       "    <tr style=\"text-align: right;\">\n",
       "      <th></th>\n",
       "      <th>gender</th>\n",
       "      <th>age</th>\n",
       "      <th>hypertension</th>\n",
       "      <th>heart_disease</th>\n",
       "      <th>work_type</th>\n",
       "      <th>avg_glucose_level</th>\n",
       "      <th>bmi</th>\n",
       "      <th>smoking_status</th>\n",
       "      <th>stroke</th>\n",
       "    </tr>\n",
       "  </thead>\n",
       "  <tbody>\n",
       "    <tr>\n",
       "      <th>0</th>\n",
       "      <td>1</td>\n",
       "      <td>67.0</td>\n",
       "      <td>0</td>\n",
       "      <td>1</td>\n",
       "      <td>2</td>\n",
       "      <td>228.69</td>\n",
       "      <td>36.6</td>\n",
       "      <td>1</td>\n",
       "      <td>1</td>\n",
       "    </tr>\n",
       "    <tr>\n",
       "      <th>1</th>\n",
       "      <td>0</td>\n",
       "      <td>61.0</td>\n",
       "      <td>0</td>\n",
       "      <td>0</td>\n",
       "      <td>3</td>\n",
       "      <td>202.21</td>\n",
       "      <td>28.1</td>\n",
       "      <td>2</td>\n",
       "      <td>1</td>\n",
       "    </tr>\n",
       "    <tr>\n",
       "      <th>2</th>\n",
       "      <td>1</td>\n",
       "      <td>80.0</td>\n",
       "      <td>0</td>\n",
       "      <td>1</td>\n",
       "      <td>2</td>\n",
       "      <td>105.92</td>\n",
       "      <td>32.5</td>\n",
       "      <td>2</td>\n",
       "      <td>1</td>\n",
       "    </tr>\n",
       "    <tr>\n",
       "      <th>3</th>\n",
       "      <td>0</td>\n",
       "      <td>49.0</td>\n",
       "      <td>0</td>\n",
       "      <td>0</td>\n",
       "      <td>2</td>\n",
       "      <td>171.23</td>\n",
       "      <td>34.4</td>\n",
       "      <td>3</td>\n",
       "      <td>1</td>\n",
       "    </tr>\n",
       "    <tr>\n",
       "      <th>4</th>\n",
       "      <td>0</td>\n",
       "      <td>79.0</td>\n",
       "      <td>1</td>\n",
       "      <td>0</td>\n",
       "      <td>3</td>\n",
       "      <td>174.12</td>\n",
       "      <td>24.0</td>\n",
       "      <td>2</td>\n",
       "      <td>1</td>\n",
       "    </tr>\n",
       "  </tbody>\n",
       "</table>\n",
       "</div>"
      ],
      "text/plain": [
       "   gender   age  hypertension  heart_disease  work_type  avg_glucose_level  \\\n",
       "0       1  67.0             0              1          2             228.69   \n",
       "1       0  61.0             0              0          3             202.21   \n",
       "2       1  80.0             0              1          2             105.92   \n",
       "3       0  49.0             0              0          2             171.23   \n",
       "4       0  79.0             1              0          3             174.12   \n",
       "\n",
       "    bmi  smoking_status  stroke  \n",
       "0  36.6               1       1  \n",
       "1  28.1               2       1  \n",
       "2  32.5               2       1  \n",
       "3  34.4               3       1  \n",
       "4  24.0               2       1  "
      ]
     },
     "execution_count": 15,
     "metadata": {},
     "output_type": "execute_result"
    }
   ],
   "source": [
    "df[:5]"
   ]
  },
  {
   "cell_type": "code",
   "execution_count": 16,
   "id": "e4c1ff08",
   "metadata": {},
   "outputs": [],
   "source": [
    "df.drop(df[df['gender'] == 'Other'].index, inplace = True)\n",
    "df.drop(df[df['bmi'] > 47].index, inplace = True)"
   ]
  },
  {
   "cell_type": "code",
   "execution_count": 25,
   "id": "cc09c5e6",
   "metadata": {},
   "outputs": [],
   "source": [
    "X = df.iloc[:, 1:7].values\n",
    "Y = df.iloc[:, 8].values"
   ]
  },
  {
   "cell_type": "code",
   "execution_count": 26,
   "id": "149f7b66",
   "metadata": {},
   "outputs": [
    {
     "data": {
      "text/plain": [
       "array([[ 67.  ,   0.  ,   1.  ,   2.  , 228.69,  36.6 ],\n",
       "       [ 61.  ,   0.  ,   0.  ,   3.  , 202.21,  28.1 ],\n",
       "       [ 80.  ,   0.  ,   1.  ,   2.  , 105.92,  32.5 ],\n",
       "       ...,\n",
       "       [ 35.  ,   0.  ,   0.  ,   3.  ,  82.99,  30.6 ],\n",
       "       [ 51.  ,   0.  ,   0.  ,   2.  , 166.29,  25.6 ],\n",
       "       [ 44.  ,   0.  ,   0.  ,   0.  ,  85.28,  26.2 ]])"
      ]
     },
     "execution_count": 26,
     "metadata": {},
     "output_type": "execute_result"
    }
   ],
   "source": [
    "X"
   ]
  },
  {
   "cell_type": "code",
   "execution_count": 61,
   "id": "62a8c530",
   "metadata": {},
   "outputs": [
    {
     "data": {
      "text/plain": [
       "numpy.ndarray"
      ]
     },
     "execution_count": 61,
     "metadata": {},
     "output_type": "execute_result"
    }
   ],
   "source": [
    "type(Y)"
   ]
  },
  {
   "cell_type": "code",
   "execution_count": 28,
   "id": "c44f9e7a",
   "metadata": {},
   "outputs": [
    {
     "data": {
      "text/plain": [
       "((3994, 6), (999, 6), (3994,), (999,))"
      ]
     },
     "execution_count": 28,
     "metadata": {},
     "output_type": "execute_result"
    }
   ],
   "source": [
    "X_train, X_test, y_train, y_test = train_test_split(X, Y,\n",
    "                                                    test_size=0.2, \n",
    "                                                    random_state=4)\n",
    "\n",
    "X_train.shape, X_test.shape, y_train.shape, y_test.shape"
   ]
  },
  {
   "cell_type": "code",
   "execution_count": 46,
   "id": "6f996333",
   "metadata": {},
   "outputs": [
    {
     "data": {
      "text/plain": [
       "array([1, 0, 0, ..., 0, 1, 0])"
      ]
     },
     "execution_count": 46,
     "metadata": {},
     "output_type": "execute_result"
    }
   ],
   "source": [
    "y_train"
   ]
  },
  {
   "cell_type": "code",
   "execution_count": 55,
   "id": "85da35a2",
   "metadata": {},
   "outputs": [
    {
     "data": {
      "text/plain": [
       "{'data': array([[ 45.  ,   0.  ,   0.  ,   2.  ,  64.14,  29.4 ],\n",
       "        [ 78.  ,   0.  ,   0.  ,   2.  , 100.09,  30.5 ],\n",
       "        [ 10.  ,   0.  ,   0.  ,   4.  ,  95.8 ,  17.3 ],\n",
       "        ...,\n",
       "        [ 45.  ,   0.  ,   0.  ,   2.  , 106.83,  32.1 ],\n",
       "        [ 78.  ,   1.  ,   0.  ,   3.  ,  56.11,  25.5 ],\n",
       "        [ 35.  ,   0.  ,   0.  ,   0.  ,  82.39,  33.2 ]]),\n",
       " 'targ': array([1, 0, 0, ..., 0, 1, 0])}"
      ]
     },
     "execution_count": 55,
     "metadata": {},
     "output_type": "execute_result"
    }
   ],
   "source": [
    "from sklearn.utils import resample\n",
    "\n",
    "train = {}\n",
    "train['data'] = X_train.copy()\n",
    "train['targ'] = y_train\n",
    "\n",
    "train"
   ]
  },
  {
   "cell_type": "code",
   "execution_count": 59,
   "id": "1acb4491",
   "metadata": {},
   "outputs": [
    {
     "data": {
      "text/plain": [
       "(196, 3798)"
      ]
     },
     "execution_count": 59,
     "metadata": {},
     "output_type": "execute_result"
    }
   ],
   "source": [
    "stroke = []\n",
    "n_stroke = []\n",
    "\n",
    "for i in range(len(train['data'])):\n",
    "    if train['targ'][i] == 1:\n",
    "        stroke.append(train['data'][i])\n",
    "    else:\n",
    "        n_stroke.append(train['data'][i])\n",
    "        \n",
    "len(stroke), len(n_stroke)"
   ]
  },
  {
   "cell_type": "code",
   "execution_count": 60,
   "id": "e950d321",
   "metadata": {},
   "outputs": [],
   "source": [
    "import random\n",
    "\n",
    "new_n_stroke = []\n",
    "for i in range(len(stroke)):\n",
    "    idx = random.randrange(0, len(n_stroke))\n",
    "    new_n_stroke.append(n_stroke[idx])\n",
    "    n_stroke.pop(idx)"
   ]
  },
  {
   "cell_type": "code",
   "execution_count": 62,
   "id": "d8d01665",
   "metadata": {},
   "outputs": [],
   "source": [
    "targets = []\n",
    "for i in range(len(stroke)):\n",
    "    targets.append(1)\n",
    "for i in range(len(new_n_stroke)):\n",
    "    targets.append(0)"
   ]
  },
  {
   "cell_type": "code",
   "execution_count": 63,
   "id": "72526d78",
   "metadata": {},
   "outputs": [
    {
     "data": {
      "text/plain": [
       "(196, 196)"
      ]
     },
     "execution_count": 63,
     "metadata": {},
     "output_type": "execute_result"
    }
   ],
   "source": [
    "len(stroke), len(new_n_stroke)"
   ]
  },
  {
   "cell_type": "code",
   "execution_count": 64,
   "id": "23708d85",
   "metadata": {},
   "outputs": [],
   "source": [
    "from sklearn.utils import shuffle\n",
    "\n",
    "new_X = np.array(stroke + new_n_stroke)\n",
    "targets = np.array(targets)\n",
    "\n",
    "X_train, y_train = shuffle(new_X, targets)"
   ]
  },
  {
   "cell_type": "code",
   "execution_count": 65,
   "id": "d1358a17",
   "metadata": {},
   "outputs": [],
   "source": [
    "from sklearn.metrics import mean_squared_error\n",
    "from sklearn.metrics import mean_absolute_error\n",
    "\n",
    "def metrics(y, y_pred):\n",
    "    print(\"MSE: \", mean_squared_error(y, y_pred))\n",
    "    print(\"MAE: \", mean_absolute_error(y, y_pred))\n",
    "    print(\"RMS: \", mean_squared_error(y, y_pred, squared=False))"
   ]
  },
  {
   "cell_type": "markdown",
   "id": "804630aa",
   "metadata": {},
   "source": [
    "# Линейная регрессия"
   ]
  },
  {
   "cell_type": "code",
   "execution_count": 66,
   "id": "9c6a4127",
   "metadata": {},
   "outputs": [],
   "source": [
    "class LinearRegression_(BaseEstimator, ClassifierMixin):\n",
    "    def __init__(self, lr = 1, epoch = 5):\n",
    "        self.lr = lr\n",
    "        self.epoch = epoch\n",
    "        self.m = None\n",
    "                \n",
    "    def loss(self, y_pred, y):\n",
    "        return np.sum(np.square(y_pred-y))/(2*self.m)\n",
    "            \n",
    "    def fit(self, X, y):\n",
    "        self.w = np.zeros(X.shape[1])\n",
    "        self.b = 0\n",
    "        self.m = X.shape[0]   \n",
    "        self.mean, self.std = X.mean(axis=0), X.std(axis=0)\n",
    "        \n",
    "        for i in range(self.epoch):\n",
    "            \n",
    "            y_pred = np.dot(X,self.w)\n",
    "            loss = self.loss(y_pred, y)\n",
    "            \n",
    "            h = np.dot(X, self.w)+self.b\n",
    "            dw = np.dot(X.T,(h-y)) / self.m\n",
    "            db = np.sum(h-y)  / self.m\n",
    "            self.w = self.w - self.lr*dw\n",
    "            self.b = self.b - self.lr*db\n",
    "        \n",
    "    def normalizeX(self,X):\n",
    "        return (X-self.mean) / self.std\n",
    "        \n",
    "    def predict(self, X):\n",
    "        X = self.normalizeX(X)\n",
    "        return np.dot(X,self.w)+self.b\n",
    "    \n",
    "    def transform(self, X):\n",
    "        return X"
   ]
  },
  {
   "cell_type": "code",
   "execution_count": 67,
   "id": "0d072312",
   "metadata": {},
   "outputs": [
    {
     "data": {
      "text/plain": [
       "dict_keys(['memory', 'steps', 'verbose', 'lin', 'lin__epoch', 'lin__lr'])"
      ]
     },
     "execution_count": 67,
     "metadata": {},
     "output_type": "execute_result"
    }
   ],
   "source": [
    "pipe = Pipeline(steps=[('lin', LinearRegression_())])\n",
    "pipe.get_params().keys()"
   ]
  },
  {
   "cell_type": "code",
   "execution_count": 68,
   "id": "4b1558fe",
   "metadata": {},
   "outputs": [
    {
     "data": {
      "text/plain": [
       "GridSearchCV(estimator=Pipeline(steps=[('lin', LinearRegression_())]),\n",
       "             param_grid={'lin__epoch': [1, 2, 5, 7, 10],\n",
       "                         'lin__lr': [0.001, 0.01, 0.1, 0.5, 1]},\n",
       "             scoring='neg_mean_squared_error')"
      ]
     },
     "execution_count": 68,
     "metadata": {},
     "output_type": "execute_result"
    }
   ],
   "source": [
    "parameters_grid = {\n",
    "    'lin__epoch': [1, 2, 5, 7, 10],\n",
    "    'lin__lr': [0.001, 0.01, 0.1, 0.5, 1],\n",
    "}\n",
    "\n",
    "grid_cv = GridSearchCV(pipe, parameters_grid,scoring = 'neg_mean_squared_error')\n",
    "grid_cv.fit(X_train, y_train)"
   ]
  },
  {
   "cell_type": "code",
   "execution_count": 69,
   "id": "1f88ac39",
   "metadata": {},
   "outputs": [
    {
     "data": {
      "text/plain": [
       "{'lin__epoch': 1, 'lin__lr': 0.001}"
      ]
     },
     "execution_count": 69,
     "metadata": {},
     "output_type": "execute_result"
    }
   ],
   "source": [
    "grid_cv.best_params_"
   ]
  },
  {
   "cell_type": "code",
   "execution_count": 70,
   "id": "a608735b",
   "metadata": {},
   "outputs": [
    {
     "data": {
      "text/plain": [
       "-0.4711384695924309"
      ]
     },
     "execution_count": 70,
     "metadata": {},
     "output_type": "execute_result"
    }
   ],
   "source": [
    "grid_cv.best_score_"
   ]
  },
  {
   "cell_type": "code",
   "execution_count": 71,
   "id": "702b1e0a",
   "metadata": {},
   "outputs": [
    {
     "data": {
      "text/plain": [
       "['lin.plk']"
      ]
     },
     "execution_count": 71,
     "metadata": {},
     "output_type": "execute_result"
    }
   ],
   "source": [
    "import joblib\n",
    "joblib.dump(grid_cv.best_estimator_, \"lin.plk\")"
   ]
  },
  {
   "cell_type": "code",
   "execution_count": 72,
   "id": "59dc7acd",
   "metadata": {},
   "outputs": [
    {
     "data": {
      "text/plain": [
       "array([[ 64.  ,   0.  ,   1.  ,   0.  ,  74.1 ,  28.8 ],\n",
       "       [ 63.  ,   0.  ,   0.  ,   2.  , 228.56,  27.4 ],\n",
       "       [ 54.  ,   0.  ,   0.  ,   3.  , 191.82,  40.4 ],\n",
       "       ...,\n",
       "       [ 66.  ,   0.  ,   0.  ,   2.  , 190.4 ,  28.1 ],\n",
       "       [ 65.  ,   0.  ,   0.  ,   3.  ,  68.43,  28.1 ],\n",
       "       [ 59.  ,   0.  ,   0.  ,   2.  ,  96.16,  44.1 ]])"
      ]
     },
     "execution_count": 72,
     "metadata": {},
     "output_type": "execute_result"
    }
   ],
   "source": [
    "grid_cv.transform(X_train)"
   ]
  },
  {
   "cell_type": "code",
   "execution_count": 73,
   "id": "96fa277c",
   "metadata": {},
   "outputs": [],
   "source": [
    "y_pred = grid_cv.predict(X_test)"
   ]
  },
  {
   "cell_type": "code",
   "execution_count": 74,
   "id": "9d3d0144",
   "metadata": {},
   "outputs": [
    {
     "name": "stdout",
     "output_type": "stream",
     "text": [
      "MSE:  0.05423808919263267\n",
      "MAE:  0.11526361750589442\n",
      "RMS:  0.23289072371529243\n"
     ]
    }
   ],
   "source": [
    "metrics(y_test,y_pred)"
   ]
  },
  {
   "cell_type": "code",
   "execution_count": 75,
   "id": "63ec9d75",
   "metadata": {},
   "outputs": [
    {
     "name": "stdout",
     "output_type": "stream",
     "text": [
      "MSE:  0.17938580410193433\n",
      "MAE:  0.34153179489839997\n",
      "RMS:  0.4235396133798282\n"
     ]
    }
   ],
   "source": [
    "from sklearn.linear_model import LinearRegression\n",
    "\n",
    "lin = LinearRegression()\n",
    "lin.fit(X_train, y_train)\n",
    "metrics(y_test,lin.predict(X_test))"
   ]
  },
  {
   "cell_type": "markdown",
   "id": "eab9e164",
   "metadata": {},
   "source": [
    "# Метод опорных векторов"
   ]
  },
  {
   "cell_type": "code",
   "execution_count": 76,
   "id": "dfae736a",
   "metadata": {},
   "outputs": [],
   "source": [
    "from sklearn.metrics import confusion_matrix\n",
    "from sklearn.metrics import recall_score\n",
    "from sklearn.metrics import roc_auc_score"
   ]
  },
  {
   "cell_type": "code",
   "execution_count": 77,
   "id": "0ec46c41",
   "metadata": {},
   "outputs": [],
   "source": [
    "def rbf(x, y, gamma):\n",
    "    return np.exp(-gamma*np.sum((y - x[:,np.newaxis])**2, axis=-1))\n",
    "\n",
    "def linear(x, y, gamma):\n",
    "    return np.dot(x, y.T)"
   ]
  },
  {
   "cell_type": "code",
   "execution_count": 78,
   "id": "afdee926",
   "metadata": {},
   "outputs": [],
   "source": [
    "class SVMM(BaseEstimator, ClassifierMixin):\n",
    "    def __init__(self, lr=1, epoch=1000):\n",
    "        self.lr = lr        \n",
    "        self.epoch = epoch\n",
    "\n",
    "    def fit(self, X, y):\n",
    "        n_samples, n_features = X.shape\n",
    "        \n",
    "        y_ = np.where(y > 0, 1, -1)\n",
    "        \n",
    "        self.w = np.zeros(n_features)\n",
    "\n",
    "        for e in range(self.epoch):\n",
    "            for i, x in enumerate(X):\n",
    "                a = y_[i] * (np.dot(x, self.w))\n",
    "                if a < 1:\n",
    "                    self.w += self.lr * (X[i]*y_[i] - 2/self.epoch*self.w)\n",
    "                else:\n",
    "                    self.w += self.lr * (-2/self.epoch*self.w)\n",
    "\n",
    "\n",
    "    def predict(self, X):\n",
    "        y_pred = np.dot(X, self.w)\n",
    "        return np.where(y_pred > 0, 1, 0)\n",
    "    \n",
    "    def transform(self, X):\n",
    "        return X"
   ]
  },
  {
   "cell_type": "code",
   "execution_count": 79,
   "id": "2e9ca500",
   "metadata": {},
   "outputs": [
    {
     "data": {
      "text/plain": [
       "dict_keys(['memory', 'steps', 'verbose', 'svm', 'svm__epoch', 'svm__lr'])"
      ]
     },
     "execution_count": 79,
     "metadata": {},
     "output_type": "execute_result"
    }
   ],
   "source": [
    "pipe = Pipeline(steps=[('svm', SVMM())])\n",
    "pipe.get_params().keys()"
   ]
  },
  {
   "cell_type": "code",
   "execution_count": 80,
   "id": "03949cb2",
   "metadata": {},
   "outputs": [
    {
     "data": {
      "text/plain": [
       "GridSearchCV(estimator=Pipeline(steps=[('svm', SVMM())]),\n",
       "             param_grid={'svm__epoch': [20, 50, 100, 1000, 5000],\n",
       "                         'svm__lr': [0.001, 0.1, 0.5, 1]})"
      ]
     },
     "execution_count": 80,
     "metadata": {},
     "output_type": "execute_result"
    }
   ],
   "source": [
    "parameters_grid = {\n",
    "    'svm__lr': [0.001, 0.1, 0.5, 1],    \n",
    "    'svm__epoch': [20, 50, 100, 1000, 5000]    \n",
    "}\n",
    "\n",
    "grid_cv = GridSearchCV(pipe, parameters_grid)\n",
    "grid_cv.fit(X_train, y_train)"
   ]
  },
  {
   "cell_type": "code",
   "execution_count": 81,
   "id": "6d9ede01",
   "metadata": {},
   "outputs": [
    {
     "data": {
      "text/plain": [
       "{'svm__epoch': 20, 'svm__lr': 0.001}"
      ]
     },
     "execution_count": 81,
     "metadata": {},
     "output_type": "execute_result"
    }
   ],
   "source": [
    "grid_cv.best_params_"
   ]
  },
  {
   "cell_type": "code",
   "execution_count": 82,
   "id": "43153847",
   "metadata": {},
   "outputs": [
    {
     "data": {
      "text/plain": [
       "0.6556312885426809"
      ]
     },
     "execution_count": 82,
     "metadata": {},
     "output_type": "execute_result"
    }
   ],
   "source": [
    "grid_cv.best_score_"
   ]
  },
  {
   "cell_type": "code",
   "execution_count": 83,
   "id": "7247ec9e",
   "metadata": {},
   "outputs": [
    {
     "data": {
      "text/plain": [
       "['svm.plk']"
      ]
     },
     "execution_count": 83,
     "metadata": {},
     "output_type": "execute_result"
    }
   ],
   "source": [
    "joblib.dump(grid_cv.best_estimator_, \"svm.plk\")"
   ]
  },
  {
   "cell_type": "code",
   "execution_count": 84,
   "id": "4f6cfc17",
   "metadata": {},
   "outputs": [
    {
     "name": "stdout",
     "output_type": "stream",
     "text": [
      "MSE:  0.11511511511511512\n",
      "MAE:  0.11511511511511512\n",
      "RMS:  0.33928618468059546\n"
     ]
    }
   ],
   "source": [
    "grid_cv.transform(X_train);\n",
    "y_pred = grid_cv.predict(X_test)\n",
    "metrics(y_test,y_pred)"
   ]
  },
  {
   "cell_type": "code",
   "execution_count": 85,
   "id": "b98d4be6",
   "metadata": {},
   "outputs": [
    {
     "name": "stdout",
     "output_type": "stream",
     "text": [
      "Confusion matrix [[860  89]\n",
      " [ 26  24]]\n",
      "\n",
      "\n",
      "Recall score 0.48\n",
      "\n",
      "\n",
      "roc_auc score 0.6931085353003161\n",
      "\n",
      "\n",
      "Accuracy score 0.8848848848848849\n"
     ]
    }
   ],
   "source": [
    "print(\"Confusion matrix\", confusion_matrix(y_test, y_pred))\n",
    "print(\"\\n\\nRecall score\", recall_score(y_test, y_pred))\n",
    "print(\"\\n\\nroc_auc score\", roc_auc_score(y_test, y_pred))\n",
    "print(\"\\n\\nAccuracy score\", accuracy_score(y_test, y_pred))"
   ]
  },
  {
   "cell_type": "code",
   "execution_count": 86,
   "id": "d2bcec0a",
   "metadata": {},
   "outputs": [
    {
     "data": {
      "text/plain": [
       "Pipeline(steps=[('svm', SVC())])"
      ]
     },
     "execution_count": 86,
     "metadata": {},
     "output_type": "execute_result"
    }
   ],
   "source": [
    "from sklearn.svm import SVC\n",
    "\n",
    "pipe1 = Pipeline(steps=[('svm', SVC())])\n",
    "pipe1.fit(X_train, y_train)"
   ]
  },
  {
   "cell_type": "code",
   "execution_count": 87,
   "id": "4a800cbc",
   "metadata": {},
   "outputs": [
    {
     "name": "stdout",
     "output_type": "stream",
     "text": [
      "MSE:  0.32232232232232233\n",
      "MAE:  0.32232232232232233\n",
      "RMS:  0.5677343765550245\n"
     ]
    }
   ],
   "source": [
    "y_pred = pipe1.predict(X_test)\n",
    "metrics(y_test,y_pred)"
   ]
  },
  {
   "cell_type": "code",
   "execution_count": 88,
   "id": "876e9a19",
   "metadata": {},
   "outputs": [
    {
     "name": "stdout",
     "output_type": "stream",
     "text": [
      "Confusion matrix [[633 316]\n",
      " [  6  44]]\n",
      "\n",
      "\n",
      "Recall score 0.88\n",
      "\n",
      "\n",
      "roc_auc score 0.7735089567966281\n",
      "\n",
      "\n",
      "Accuracy score 0.6776776776776777\n"
     ]
    }
   ],
   "source": [
    "print(\"Confusion matrix\", confusion_matrix(y_test, y_pred))\n",
    "print(\"\\n\\nRecall score\", recall_score(y_test, y_pred))\n",
    "print(\"\\n\\nroc_auc score\", roc_auc_score(y_test, y_pred))\n",
    "print(\"\\n\\nAccuracy score\", accuracy_score(y_test, y_pred))"
   ]
  },
  {
   "cell_type": "markdown",
   "id": "ce139a01",
   "metadata": {},
   "source": [
    "# KNN"
   ]
  },
  {
   "cell_type": "code",
   "execution_count": 89,
   "id": "fc38539d",
   "metadata": {},
   "outputs": [],
   "source": [
    "def euclidean_distance(v1, v2):\n",
    "    return np.sqrt(np.sum((v1-v2)**2))\n",
    "\n",
    "def absolute_distance(v1, v2):\n",
    "    return np.sum(np.absolute(v1-v2))"
   ]
  },
  {
   "cell_type": "code",
   "execution_count": 90,
   "id": "fdf69c92",
   "metadata": {},
   "outputs": [],
   "source": [
    "from scipy.stats import mode\n",
    "\n",
    "class KNN(BaseEstimator, ClassifierMixin):\n",
    "    def __init__(self, k = 4, distance_func = euclidean_distance):\n",
    "        self.k = k\n",
    "        self.distance_func = distance_func\n",
    "        \n",
    "    def fit(self, X, y):\n",
    "        self.X = X\n",
    "        self.y = y\n",
    "        \n",
    "    def predict(self, x):\n",
    "        op_labels = []\n",
    "    \n",
    "        for item in x: \n",
    "            point_dist = []\n",
    "            for j in range(len(self.X)): \n",
    "                distances = self.distance_func(np.array(self.X[j,:]) , item) \n",
    "                point_dist.append(distances) \n",
    "            \n",
    "            point_dist = np.array(point_dist) \n",
    "            dist = np.argsort(point_dist)[:self.k] \n",
    "            labels = self.y[dist]\n",
    "\n",
    "            lab = mode(labels) \n",
    "            lab = lab.mode[0]\n",
    "            op_labels.append(lab)\n",
    "\n",
    "        return op_labels\n",
    "    \n",
    "    def transform(self, X):\n",
    "        return X"
   ]
  },
  {
   "cell_type": "code",
   "execution_count": 91,
   "id": "789a76d0",
   "metadata": {},
   "outputs": [
    {
     "data": {
      "text/plain": [
       "dict_keys(['memory', 'steps', 'verbose', 'knn', 'knn__distance_func', 'knn__k'])"
      ]
     },
     "execution_count": 91,
     "metadata": {},
     "output_type": "execute_result"
    }
   ],
   "source": [
    "pipe = Pipeline(steps=[('knn', KNN())])\n",
    "pipe.get_params().keys()"
   ]
  },
  {
   "cell_type": "code",
   "execution_count": 92,
   "id": "7fe224d9",
   "metadata": {},
   "outputs": [
    {
     "data": {
      "text/plain": [
       "GridSearchCV(estimator=Pipeline(steps=[('knn', KNN())]),\n",
       "             param_grid={'knn__distance_func': [<function euclidean_distance at 0x7f2549b05700>,\n",
       "                                                <function absolute_distance at 0x7f2549b05430>],\n",
       "                         'knn__k': [2, 5, 7, 10]})"
      ]
     },
     "execution_count": 92,
     "metadata": {},
     "output_type": "execute_result"
    }
   ],
   "source": [
    "parameters_grid = {\n",
    "    'knn__k': [2, 5, 7, 10],\n",
    "    'knn__distance_func': [euclidean_distance, absolute_distance]    \n",
    "}\n",
    "\n",
    "grid_cv = GridSearchCV(pipe, parameters_grid)\n",
    "grid_cv.fit(X_train, y_train)"
   ]
  },
  {
   "cell_type": "code",
   "execution_count": 93,
   "id": "a18104f1",
   "metadata": {},
   "outputs": [
    {
     "data": {
      "text/plain": [
       "{'knn__distance_func': <function __main__.absolute_distance(v1, v2)>,\n",
       " 'knn__k': 7}"
      ]
     },
     "execution_count": 93,
     "metadata": {},
     "output_type": "execute_result"
    }
   ],
   "source": [
    "grid_cv.best_params_"
   ]
  },
  {
   "cell_type": "code",
   "execution_count": 94,
   "id": "b93d17f1",
   "metadata": {},
   "outputs": [
    {
     "data": {
      "text/plain": [
       "0.7271340473872119"
      ]
     },
     "execution_count": 94,
     "metadata": {},
     "output_type": "execute_result"
    }
   ],
   "source": [
    "grid_cv.best_score_"
   ]
  },
  {
   "cell_type": "code",
   "execution_count": 95,
   "id": "503b8169",
   "metadata": {},
   "outputs": [
    {
     "data": {
      "text/plain": [
       "['knn.plk']"
      ]
     },
     "execution_count": 95,
     "metadata": {},
     "output_type": "execute_result"
    }
   ],
   "source": [
    "joblib.dump(grid_cv.best_estimator_, \"knn.plk\")"
   ]
  },
  {
   "cell_type": "code",
   "execution_count": 96,
   "id": "91079202",
   "metadata": {},
   "outputs": [
    {
     "name": "stdout",
     "output_type": "stream",
     "text": [
      "MSE:  0.33933933933933935\n",
      "MAE:  0.33933933933933935\n",
      "RMS:  0.5825284021739535\n"
     ]
    }
   ],
   "source": [
    "grid_cv.transform(X_train);\n",
    "y_pred = grid_cv.predict(X_test)\n",
    "metrics(y_test,y_pred)"
   ]
  },
  {
   "cell_type": "code",
   "execution_count": 97,
   "id": "af032b29",
   "metadata": {},
   "outputs": [
    {
     "name": "stdout",
     "output_type": "stream",
     "text": [
      "Confusion matrix\n",
      " [[619 330]\n",
      " [  9  41]]\n",
      "\n",
      "\n",
      "Recall score 0.82\n",
      "\n",
      "\n",
      "roc_auc score 0.7361327713382507\n",
      "\n",
      "\n",
      "Accuracy score 0.6606606606606606\n"
     ]
    }
   ],
   "source": [
    "print(\"Confusion matrix\\n\", confusion_matrix(y_test, y_pred))\n",
    "print(\"\\n\\nRecall score\", recall_score(y_test, y_pred))\n",
    "print(\"\\n\\nroc_auc score\", roc_auc_score(y_test, y_pred))\n",
    "print(\"\\n\\nAccuracy score\", accuracy_score(y_test, y_pred))"
   ]
  },
  {
   "cell_type": "code",
   "execution_count": 98,
   "id": "021c0467",
   "metadata": {
    "scrolled": true
   },
   "outputs": [
    {
     "name": "stdout",
     "output_type": "stream",
     "text": [
      "MSE:  0.3203203203203203\n",
      "MAE:  0.3203203203203203\n",
      "RMS:  0.5659684799706785\n",
      "Confusion matrix\n",
      " [[640 309]\n",
      " [ 11  39]]\n",
      "\n",
      "\n",
      "Recall score 0.78\n",
      "\n",
      "\n",
      "roc_auc score 0.7271970495258167\n",
      "\n",
      "\n",
      "Accuracy score 0.6796796796796797\n"
     ]
    }
   ],
   "source": [
    "from sklearn.neighbors import KNeighborsClassifier\n",
    "\n",
    "pipe1 = Pipeline(steps=[('knn_', KNeighborsClassifier(n_neighbors=10))])\n",
    "pipe1.fit(X_train, y_train)\n",
    "y_pred = pipe1.predict(X_test)\n",
    "metrics(y_test,y_pred)\n",
    "\n",
    "print(\"Confusion matrix\\n\", confusion_matrix(y_test, y_pred))\n",
    "print(\"\\n\\nRecall score\", recall_score(y_test, y_pred))\n",
    "print(\"\\n\\nroc_auc score\", roc_auc_score(y_test, y_pred))\n",
    "print(\"\\n\\nAccuracy score\", accuracy_score(y_test, y_pred))"
   ]
  },
  {
   "cell_type": "markdown",
   "id": "57e6c95b",
   "metadata": {},
   "source": [
    "# Наивный баессовский классификатор"
   ]
  },
  {
   "cell_type": "code",
   "execution_count": 105,
   "id": "f1d3a1ac",
   "metadata": {},
   "outputs": [],
   "source": [
    "class Bayes(BaseEstimator, ClassifierMixin):\n",
    "    def __init__(self):\n",
    "        pass\n",
    "\n",
    "    def separate(self, X, y):\n",
    "        classes = {}\n",
    "        for i in range(len(X)):\n",
    "            if y[i] not in classes:\n",
    "                classes[y[i]] = []\n",
    "            classes[y[i]].append(X[i])\n",
    "        return classes\n",
    "\n",
    "    def mean_std(self, X):\n",
    "        for i in zip(*X):\n",
    "            yield {\n",
    "                'std' : np.std(i), 'mean' : np.mean(i)\n",
    "            }\n",
    "\n",
    "\n",
    "    def fit (self, X, y):\n",
    "        sep_classes = self.separate(X, y)\n",
    "        self.class_summary = {}\n",
    "\n",
    "        for i, j in sep_classes.items():\n",
    "            self.class_summary[i] = {\n",
    "                'prior': len(j)/len(X),\n",
    "                'summ': [k for k in self.mean_std(j)],\n",
    "            }\n",
    "\n",
    "    def gaus_distribution(self, x, mean, std):\n",
    "        return np.exp(-((x-mean)**2 / (2*std**2))) / (np.sqrt(2*np.pi)*std)\n",
    "\n",
    "\n",
    "    def predict(self, X):        \n",
    "        max_apr = []\n",
    "\n",
    "        for row in X:\n",
    "            proba = {}\n",
    "            \n",
    "            for cl_name, ftrs in self.class_summary.items():\n",
    "                ttl_ftrs =  len(ftrs['summ'])\n",
    "                h = 1\n",
    "                for idx in range(ttl_ftrs):\n",
    "                    tmp = row[idx]\n",
    "                    mean = ftrs['summ'][idx]['mean']\n",
    "                    stdev = ftrs['summ'][idx]['std']\n",
    "                    gaus_proba = self.gaus_distribution(tmp, mean, stdev)\n",
    "                    h *= gaus_proba\n",
    "                proba[cl_name] = ftrs['prior'] * h\n",
    "\n",
    "            MAP = max(proba, key = proba.get)\n",
    "            max_apr.append(MAP)\n",
    "\n",
    "        return max_apr\n",
    "    \n",
    "    def transform(self, X):\n",
    "        return X"
   ]
  },
  {
   "cell_type": "code",
   "execution_count": 106,
   "id": "470a918b",
   "metadata": {},
   "outputs": [
    {
     "data": {
      "text/plain": [
       "dict_keys(['memory', 'steps', 'verbose', 'bayes'])"
      ]
     },
     "execution_count": 106,
     "metadata": {},
     "output_type": "execute_result"
    }
   ],
   "source": [
    "pipe = Pipeline(steps=[('bayes', Bayes())])\n",
    "pipe.get_params().keys()"
   ]
  },
  {
   "cell_type": "code",
   "execution_count": 107,
   "id": "2543e00b",
   "metadata": {},
   "outputs": [
    {
     "name": "stdout",
     "output_type": "stream",
     "text": [
      "MSE:  0.18618618618618618\n",
      "MAE:  0.18618618618618618\n",
      "RMS:  0.431492973507317\n"
     ]
    }
   ],
   "source": [
    "pipe.fit(X_train, y_train)\n",
    "y_pred = pipe.predict(X_test)\n",
    "metrics(y_pred, y_test)"
   ]
  },
  {
   "cell_type": "code",
   "execution_count": 108,
   "id": "1bc938b8",
   "metadata": {},
   "outputs": [
    {
     "name": "stdout",
     "output_type": "stream",
     "text": [
      "Confusion matrix\n",
      " [[788 161]\n",
      " [ 25  25]]\n",
      "\n",
      "\n",
      "Recall score 0.5\n",
      "\n",
      "\n",
      "roc_auc score 0.6651738672286617\n",
      "\n",
      "\n",
      "Accuracy score 0.8138138138138138\n"
     ]
    }
   ],
   "source": [
    "print(\"Confusion matrix\\n\", confusion_matrix(y_test, y_pred))\n",
    "print(\"\\n\\nRecall score\", recall_score(y_test, y_pred))\n",
    "print(\"\\n\\nroc_auc score\", roc_auc_score(y_test, y_pred))\n",
    "print(\"\\n\\nAccuracy score\", accuracy_score(y_test, y_pred))"
   ]
  },
  {
   "cell_type": "code",
   "execution_count": 109,
   "id": "23683797",
   "metadata": {},
   "outputs": [
    {
     "data": {
      "text/plain": [
       "['nb.plk']"
      ]
     },
     "execution_count": 109,
     "metadata": {},
     "output_type": "execute_result"
    }
   ],
   "source": [
    "joblib.dump(pipe, \"nb.plk\")"
   ]
  },
  {
   "cell_type": "code",
   "execution_count": 110,
   "id": "28c0b4c3",
   "metadata": {
    "scrolled": true
   },
   "outputs": [
    {
     "name": "stdout",
     "output_type": "stream",
     "text": [
      "MSE:  0.18618618618618618\n",
      "MAE:  0.18618618618618618\n",
      "RMS:  0.431492973507317\n",
      "Confusion matrix\n",
      " [[788 161]\n",
      " [ 25  25]]\n",
      "\n",
      "\n",
      "Recall score 0.5\n",
      "\n",
      "\n",
      "roc_auc score 0.6651738672286617\n",
      "\n",
      "\n",
      "Accuracy score 0.8138138138138138\n"
     ]
    }
   ],
   "source": [
    "from sklearn.naive_bayes import GaussianNB\n",
    "\n",
    "pipe1 = Pipeline(steps=[('nb', GaussianNB())])\n",
    "pipe1.fit(X_train, y_train)\n",
    "y_pred = pipe1.predict(X_test)\n",
    "metrics(y_test,y_pred)\n",
    "\n",
    "print(\"Confusion matrix\\n\", confusion_matrix(y_test, y_pred))\n",
    "print(\"\\n\\nRecall score\", recall_score(y_test, y_pred))\n",
    "print(\"\\n\\nroc_auc score\", roc_auc_score(y_test, y_pred))\n",
    "print(\"\\n\\nAccuracy score\", accuracy_score(y_test, y_pred))"
   ]
  },
  {
   "cell_type": "code",
   "execution_count": null,
   "id": "deddfe48",
   "metadata": {},
   "outputs": [],
   "source": []
  },
  {
   "cell_type": "code",
   "execution_count": null,
   "id": "7a2c029a",
   "metadata": {},
   "outputs": [],
   "source": []
  }
 ],
 "metadata": {
  "kernelspec": {
   "display_name": "Python 3 (ipykernel)",
   "language": "python",
   "name": "python3"
  },
  "language_info": {
   "codemirror_mode": {
    "name": "ipython",
    "version": 3
   },
   "file_extension": ".py",
   "mimetype": "text/x-python",
   "name": "python",
   "nbconvert_exporter": "python",
   "pygments_lexer": "ipython3",
   "version": "3.8.10"
  }
 },
 "nbformat": 4,
 "nbformat_minor": 5
}
